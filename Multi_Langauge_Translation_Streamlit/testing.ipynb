{
 "cells": [
  {
   "cell_type": "code",
   "execution_count": 9,
   "metadata": {},
   "outputs": [
    {
     "ename": "ImportError",
     "evalue": "cannot import name 'Seq2SeqLMOutput' from 'transformers' (c:\\Users\\Danjin\\anaconda3\\envs\\python10\\lib\\site-packages\\transformers\\__init__.py)",
     "output_type": "error",
     "traceback": [
      "\u001b[1;31m---------------------------------------------------------------------------\u001b[0m",
      "\u001b[1;31mImportError\u001b[0m                               Traceback (most recent call last)",
      "Cell \u001b[1;32mIn[9], line 1\u001b[0m\n\u001b[1;32m----> 1\u001b[0m \u001b[38;5;28;01mfrom\u001b[39;00m \u001b[38;5;21;01mtransformers\u001b[39;00m \u001b[38;5;28;01mimport\u001b[39;00m PreTrainedModel, Seq2SeqLMOutput\n\u001b[0;32m      2\u001b[0m \u001b[38;5;28;01mimport\u001b[39;00m \u001b[38;5;21;01mtorch\u001b[39;00m\n\u001b[0;32m      3\u001b[0m \u001b[38;5;28;01mimport\u001b[39;00m \u001b[38;5;21;01mtorch\u001b[39;00m\u001b[38;5;21;01m.\u001b[39;00m\u001b[38;5;21;01mnn\u001b[39;00m \u001b[38;5;28;01mas\u001b[39;00m \u001b[38;5;21;01mnn\u001b[39;00m\n",
      "\u001b[1;31mImportError\u001b[0m: cannot import name 'Seq2SeqLMOutput' from 'transformers' (c:\\Users\\Danjin\\anaconda3\\envs\\python10\\lib\\site-packages\\transformers\\__init__.py)"
     ]
    }
   ],
   "source": [
    "from transformers import PreTrainedModel, Seq2SeqLMOutput\n",
    "import torch\n",
    "import torch.nn as nn\n",
    "from transformers.models.bart.configuration_bart import BartConfig\n",
    "\n",
    "class CustomTransformer(PreTrainedModel):\n",
    "    config_class = BartConfig  # Using BartConfig as a placeholder, replace with actual config class if different\n",
    "    \n",
    "    def __init__(self, config):\n",
    "        super().__init__(config)\n",
    "        self.model = nn.Transformer(\n",
    "            d_model=config.d_model,\n",
    "            nhead=config.num_attention_heads,\n",
    "            num_encoder_layers=config.num_encoder_layers,\n",
    "            num_decoder_layers=config.num_decoder_layers,\n",
    "            dim_feedforward=config.hidden_size,\n",
    "            dropout=config.dropout\n",
    "        )\n",
    "        self.generator = nn.Linear(config.d_model, config.vocab_size)\n",
    "    \n",
    "    def forward(self, input_ids, attention_mask=None, decoder_input_ids=None, labels=None):\n",
    "        # Implement the forward pass logic\n",
    "        outputs = self.model(input_ids, tgt=decoder_input_ids, src_key_padding_mask=attention_mask)\n",
    "        logits = self.generator(outputs)\n",
    "        \n",
    "        loss = None\n",
    "        if labels is not None:\n",
    "            loss_fct = nn.CrossEntropyLoss()\n",
    "            loss = loss_fct(logits.view(-1, self.config.vocab_size), labels.view(-1))\n",
    "        \n",
    "        return Seq2SeqLMOutput(\n",
    "            loss=loss,\n",
    "            logits=logits\n",
    "        )\n",
    "\n",
    "    def generate(self, input_ids, attention_mask=None, **kwargs):\n",
    "        # Implement generation logic\n",
    "        outputs = self.model.generate(input_ids, attention_mask=attention_mask, **kwargs)\n",
    "        return outputs"
   ]
  },
  {
   "cell_type": "code",
   "execution_count": null,
   "metadata": {},
   "outputs": [],
   "source": []
  }
 ],
 "metadata": {
  "kernelspec": {
   "display_name": "python10",
   "language": "python",
   "name": "python3"
  },
  "language_info": {
   "codemirror_mode": {
    "name": "ipython",
    "version": 3
   },
   "file_extension": ".py",
   "mimetype": "text/x-python",
   "name": "python",
   "nbconvert_exporter": "python",
   "pygments_lexer": "ipython3",
   "version": "3.10.14"
  }
 },
 "nbformat": 4,
 "nbformat_minor": 2
}
